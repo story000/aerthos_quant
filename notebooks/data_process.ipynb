{
 "cells": [
  {
   "cell_type": "code",
   "execution_count": 15,
   "metadata": {},
   "outputs": [
    {
     "name": "stdout",
     "output_type": "stream",
     "text": [
      "         Date  Price   Open   High    Low    Vol. Change %\n",
      "0  11/22/2024  70.49  70.96  69.01  69.27  39.97K   -1.03%\n",
      "1  11/21/2024  68.46  70.78  68.45  69.99  40.13K    2.35%\n",
      "2  11/20/2024  68.02  69.40  67.89  68.38  27.20K    0.37%\n",
      "3  11/19/2024  69.47  69.83  67.84  68.13  35.33K   -1.99%\n",
      "4  11/18/2024  67.28  70.03  66.96  69.51  38.34K    2.21%\n"
     ]
    }
   ],
   "source": [
    "import pandas as pd\n",
    "carbon_data = pd.read_csv('../data/raw/carbon.csv')\n",
    "\n",
    "print(carbon_data.head())"
   ]
  },
  {
   "cell_type": "code",
   "execution_count": 16,
   "metadata": {},
   "outputs": [
    {
     "data": {
      "text/html": [
       "<div>\n",
       "<style scoped>\n",
       "    .dataframe tbody tr th:only-of-type {\n",
       "        vertical-align: middle;\n",
       "    }\n",
       "\n",
       "    .dataframe tbody tr th {\n",
       "        vertical-align: top;\n",
       "    }\n",
       "\n",
       "    .dataframe thead th {\n",
       "        text-align: right;\n",
       "    }\n",
       "</style>\n",
       "<table border=\"1\" class=\"dataframe\">\n",
       "  <thead>\n",
       "    <tr style=\"text-align: right;\">\n",
       "      <th></th>\n",
       "      <th>Date</th>\n",
       "      <th>Price</th>\n",
       "      <th>Open</th>\n",
       "      <th>High</th>\n",
       "      <th>Low</th>\n",
       "      <th>Vol</th>\n",
       "      <th>pct_change</th>\n",
       "    </tr>\n",
       "  </thead>\n",
       "  <tbody>\n",
       "    <tr>\n",
       "      <th>0</th>\n",
       "      <td>2024-11-22</td>\n",
       "      <td>70.49</td>\n",
       "      <td>70.96</td>\n",
       "      <td>69.01</td>\n",
       "      <td>69.27</td>\n",
       "      <td>39970.0</td>\n",
       "      <td>-0.0103</td>\n",
       "    </tr>\n",
       "    <tr>\n",
       "      <th>1</th>\n",
       "      <td>2024-11-21</td>\n",
       "      <td>68.46</td>\n",
       "      <td>70.78</td>\n",
       "      <td>68.45</td>\n",
       "      <td>69.99</td>\n",
       "      <td>40130.0</td>\n",
       "      <td>0.0235</td>\n",
       "    </tr>\n",
       "    <tr>\n",
       "      <th>2</th>\n",
       "      <td>2024-11-20</td>\n",
       "      <td>68.02</td>\n",
       "      <td>69.40</td>\n",
       "      <td>67.89</td>\n",
       "      <td>68.38</td>\n",
       "      <td>27200.0</td>\n",
       "      <td>0.0037</td>\n",
       "    </tr>\n",
       "    <tr>\n",
       "      <th>3</th>\n",
       "      <td>2024-11-19</td>\n",
       "      <td>69.47</td>\n",
       "      <td>69.83</td>\n",
       "      <td>67.84</td>\n",
       "      <td>68.13</td>\n",
       "      <td>35330.0</td>\n",
       "      <td>-0.0199</td>\n",
       "    </tr>\n",
       "    <tr>\n",
       "      <th>4</th>\n",
       "      <td>2024-11-18</td>\n",
       "      <td>67.28</td>\n",
       "      <td>70.03</td>\n",
       "      <td>66.96</td>\n",
       "      <td>69.51</td>\n",
       "      <td>38340.0</td>\n",
       "      <td>0.0221</td>\n",
       "    </tr>\n",
       "  </tbody>\n",
       "</table>\n",
       "</div>"
      ],
      "text/plain": [
       "        Date  Price   Open   High    Low      Vol  pct_change\n",
       "0 2024-11-22  70.49  70.96  69.01  69.27  39970.0     -0.0103\n",
       "1 2024-11-21  68.46  70.78  68.45  69.99  40130.0      0.0235\n",
       "2 2024-11-20  68.02  69.40  67.89  68.38  27200.0      0.0037\n",
       "3 2024-11-19  69.47  69.83  67.84  68.13  35330.0     -0.0199\n",
       "4 2024-11-18  67.28  70.03  66.96  69.51  38340.0      0.0221"
      ]
     },
     "execution_count": 16,
     "metadata": {},
     "output_type": "execute_result"
    }
   ],
   "source": [
    "carbon_data['Date'] = pd.to_datetime(carbon_data['Date'])\n",
    "carbon_data.rename(columns={'Change %': 'pct_change'}, inplace=True)\n",
    "carbon_data.rename(columns={'Vol.': 'Vol'}, inplace=True)\n",
    "for column in carbon_data.columns[1:]:\n",
    "    if 'pct' in column:\n",
    "        carbon_data[column] = carbon_data[column].str.replace('%', '').astype(float) / 100\n",
    "    elif 'Vol' in column:\n",
    "        carbon_data[column] = carbon_data[column].str.replace('K', '').astype(float) * 1000\n",
    "    else:\n",
    "        carbon_data[column] = carbon_data[column].astype(float)\n",
    "carbon_data.head()"
   ]
  },
  {
   "cell_type": "code",
   "execution_count": 17,
   "metadata": {},
   "outputs": [],
   "source": [
    "carbon_data.to_csv('../data/processed/carbon_data_processed.csv', index=False)\n"
   ]
  },
  {
   "cell_type": "code",
   "execution_count": 18,
   "metadata": {},
   "outputs": [],
   "source": [
    "from supabase import create_client, Client\n",
    "from dotenv import load_dotenv\n",
    "import os\n",
    "load_dotenv()\n",
    "_SUPABASE_URL = os.getenv(\"SUPABASE_URL\")\n",
    "_SUPABASE_KEY = os.getenv(\"SUPABASE_KEY\")\n",
    "\n",
    "if not _SUPABASE_URL or not _SUPABASE_KEY:\n",
    "    raise ValueError(\"Supabase URL 和 Key 未正确配置，请检查环境变量。\")\n",
    "\n",
    "\n",
    "_client: Client = create_client(_SUPABASE_URL, _SUPABASE_KEY)\n",
    "\n",
    "def get_supabase_client() -> Client:\n",
    "    return _client\n",
    "\n",
    "def fetch_table(table_name: str):\n",
    "    return _client.table(table_name).select(\"*\").execute().data\n",
    "\n",
    "def insert_data(table_name: str, data: dict):\n",
    "    return _client.table(table_name).insert(data).execute().data"
   ]
  },
  {
   "cell_type": "code",
   "execution_count": 25,
   "metadata": {},
   "outputs": [
    {
     "name": "stdout",
     "output_type": "stream",
     "text": [
      "{'query': \"\\n        SELECT table_name FROM information_schema.tables\\n        WHERE table_schema = 'public'\\n        AND table_type = 'BASE TABLE';\\n        \"}\n"
     ]
    }
   ],
   "source": [
    "from supabase import create_client\n",
    "import os\n",
    "\n",
    "url = os.getenv(\"SUPABASE_URL\")\n",
    "key = os.getenv(\"SUPABASE_KEY\")\n",
    "\n",
    "supabase = create_client(url, key)\n",
    "\n",
    "# 使用自定义 SQL 查询所有表名\n",
    "result = supabase.rpc(\n",
    "    'sql',\n",
    "    {\n",
    "        'query': \"\"\"\n",
    "        SELECT table_name FROM information_schema.tables\n",
    "        WHERE table_schema = 'public'\n",
    "        AND table_type = 'BASE TABLE';\n",
    "        \"\"\"\n",
    "    }\n",
    ")\n",
    "print(result.json)\n"
   ]
  }
 ],
 "metadata": {
  "kernelspec": {
   "display_name": "base",
   "language": "python",
   "name": "python3"
  },
  "language_info": {
   "codemirror_mode": {
    "name": "ipython",
    "version": 3
   },
   "file_extension": ".py",
   "mimetype": "text/x-python",
   "name": "python",
   "nbconvert_exporter": "python",
   "pygments_lexer": "ipython3",
   "version": "3.9.7"
  }
 },
 "nbformat": 4,
 "nbformat_minor": 2
}
